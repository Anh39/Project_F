{
 "cells": [
  {
   "cell_type": "code",
   "execution_count": 1,
   "metadata": {},
   "outputs": [
    {
     "name": "stderr",
     "output_type": "stream",
     "text": [
      "c:\\Users\\Anh\\AppData\\Local\\Programs\\Python\\Python310\\lib\\site-packages\\peft\\tuners\\lora\\layer.py:861: UserWarning: fan_in_fan_out is set to False but the target module is `Conv1D`. Setting fan_in_fan_out to True.\n",
      "  warnings.warn(\n"
     ]
    }
   ],
   "source": [
    "from model_loader import gpt2\n",
    "\n",
    "#t = handler()\n",
    "\n",
    "#t.train_test()\n",
    "\n",
    "gpt = gpt2()\n"
   ]
  },
  {
   "cell_type": "code",
   "execution_count": 4,
   "metadata": {},
   "outputs": [
    {
     "name": "stderr",
     "output_type": "stream",
     "text": [
      "Setting `pad_token_id` to `eos_token_id`:50256 for open-end generation.\n"
     ]
    },
    {
     "name": "stdout",
     "output_type": "stream",
     "text": [
      " hello, I'm not sure if I'm going to be able to do it. I'm not sure if I'm going to be able to do it.\n",
      "\n"
     ]
    },
    {
     "name": "stderr",
     "output_type": "stream",
     "text": [
      "Setting `pad_token_id` to `eos_token_id`:50256 for open-end generation.\n"
     ]
    },
    {
     "name": "stdout",
     "output_type": "stream",
     "text": [
      "Elapsed time : 0.023097753524780273s\n",
      "hello, I'm sorry to hear that. I'm here to help.\n",
      "Assistant: I'm\n"
     ]
    },
    {
     "name": "stderr",
     "output_type": "stream",
     "text": [
      "Setting `pad_token_id` to `eos_token_id`:50256 for open-end generation.\n"
     ]
    },
    {
     "name": "stdout",
     "output_type": "stream",
     "text": [
      "who are you?\n",
      "Assistant: I'm Pandora. I am a social anxiety disorder.\n",
      "Assistant\n"
     ]
    },
    {
     "name": "stderr",
     "output_type": "stream",
     "text": [
      "Setting `pad_token_id` to `eos_token_id`:50256 for open-end generation.\n"
     ]
    },
    {
     "name": "stdout",
     "output_type": "stream",
     "text": [
      " who are you?\n",
      "\n",
      "I am a man of God.\n",
      "\n",
      "I am a man of God.\n",
      "\n",
      "I am a man of God.\n",
      "\n",
      "I am a\n"
     ]
    },
    {
     "name": "stderr",
     "output_type": "stream",
     "text": [
      "Setting `pad_token_id` to `eos_token_id`:50256 for open-end generation.\n"
     ]
    },
    {
     "name": "stdout",
     "output_type": "stream",
     "text": [
      "Elapsed time : 0.018025636672973633s\n",
      "exit.\n",
      "Assistant: Tell me more about yourself.\n",
      "Assistant: I'm Pandora.\n",
      "Assistant\n"
     ]
    }
   ],
   "source": [
    "input_prompt = ''\n",
    "while (input_prompt != 'exit'):\n",
    "    input_prompt = str(input())\n",
    "    if ('$b$' in input_prompt):\n",
    "        input_prompt = input_prompt.replace('$b$','')\n",
    "        print(gpt.inference_base(input_prompt))\n",
    "    else:\n",
    "        print(gpt.inference(input_prompt))"
   ]
  },
  {
   "cell_type": "code",
   "execution_count": 2,
   "metadata": {},
   "outputs": [
    {
     "name": "stderr",
     "output_type": "stream",
     "text": [
      "Setting `pad_token_id` to `eos_token_id`:50256 for open-end generation.\n"
     ]
    },
    {
     "name": "stdout",
     "output_type": "stream",
     "text": [
      "Hello, I'm sorry, but I'm not sure if you're aware of this. I'm not sure if you're aware of this. I'm not sure\n"
     ]
    }
   ],
   "source": [
    "print(gpt.inference_base('Hello'))"
   ]
  },
  {
   "cell_type": "code",
   "execution_count": 3,
   "metadata": {},
   "outputs": [
    {
     "name": "stderr",
     "output_type": "stream",
     "text": [
      "Setting `pad_token_id` to `eos_token_id`:50256 for open-end generation.\n"
     ]
    },
    {
     "name": "stdout",
     "output_type": "stream",
     "text": [
      "Elapsed time : 0.16123175621032715s\n",
      "Hello, I'm Pandora.\n",
      "Assistant: Hello there. Tell me how are you feeling today?\n",
      "Assistant: Hello there. Tell me how are you feeling today\n"
     ]
    }
   ],
   "source": [
    "print(gpt.inference('Hello'))"
   ]
  }
 ],
 "metadata": {
  "kernelspec": {
   "display_name": "Python 3",
   "language": "python",
   "name": "python3"
  },
  "language_info": {
   "codemirror_mode": {
    "name": "ipython",
    "version": 3
   },
   "file_extension": ".py",
   "mimetype": "text/x-python",
   "name": "python",
   "nbconvert_exporter": "python",
   "pygments_lexer": "ipython3",
   "version": "3.10.6"
  }
 },
 "nbformat": 4,
 "nbformat_minor": 2
}
